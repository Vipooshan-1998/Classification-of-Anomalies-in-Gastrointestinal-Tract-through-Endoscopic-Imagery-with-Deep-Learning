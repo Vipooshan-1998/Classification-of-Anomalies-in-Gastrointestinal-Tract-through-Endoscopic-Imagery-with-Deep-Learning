{
 "cells": [
  {
   "cell_type": "markdown",
   "metadata": {
    "toc": true
   },
   "source": [
    "<h1>Table of Contents<span class=\"tocSkip\"></span></h1>\n",
    "<div class=\"toc\"><ul class=\"toc-item\"></ul></div>"
   ]
  },
  {
   "cell_type": "code",
   "execution_count": 44,
   "metadata": {},
   "outputs": [],
   "source": [
    "import keras,os\n",
    "from keras.models import Sequential, Model   # M\n",
    "from keras.layers import Conv2D, MaxPool2D, Flatten, Dense\n",
    "from tensorflow.keras.layers import GlobalAveragePooling2D,Dropout  #\n",
    "from keras.preprocessing.image import ImageDataGenerator\n",
    "\n",
    "from keras.applications.resnet50 import preprocess_input, decode_predictions\n",
    "from keras.optimizers import Adam, RMSprop"
   ]
  },
  {
   "cell_type": "code",
   "execution_count": 45,
   "metadata": {},
   "outputs": [],
   "source": [
    "import numpy as np\n",
    "import matplotlib.pyplot as plt\n",
    "import PIL\n",
    "import tensorflow as tf\n",
    "import os"
   ]
  },
  {
   "cell_type": "code",
   "execution_count": 46,
   "metadata": {},
   "outputs": [
    {
     "name": "stdout",
     "output_type": "stream",
     "text": [
      "Found 6400 images belonging to 8 classes.\n"
     ]
    }
   ],
   "source": [
    "trdata = ImageDataGenerator(rescale=1./255,\n",
    "                           rotation_range=20, \n",
    "                            zoom_range=0.15,\n",
    "                            width_shift_range=0.2, \n",
    "                            height_shift_range=0.2, \n",
    "                            shear_range=0.15,\n",
    "                            horizontal_flip=True, \n",
    "                            fill_mode=\"nearest\")\n",
    "#                             rotation_range=40,\n",
    "#                            width_shift_range=0.2,\n",
    "#                            height_shift_range=0.2,\n",
    "#                            shear_range=0.2,\n",
    "#                            zoom_range=0.2,\n",
    "#                            horizontal_flip=True, \n",
    "                            \n",
    "traindata = trdata.flow_from_directory(directory=\"D:/kvasir-dataset-v2/train_data\",target_size=(224,224))"
   ]
  },
  {
   "cell_type": "code",
   "execution_count": 47,
   "metadata": {},
   "outputs": [
    {
     "name": "stdout",
     "output_type": "stream",
     "text": [
      "Found 1600 images belonging to 8 classes.\n"
     ]
    }
   ],
   "source": [
    "tsdata = ImageDataGenerator(rescale = 1./255)\n",
    "testdata = trdata.flow_from_directory(directory=\"D:/kvasir-dataset-v2/test_data\",target_size=(224,224))"
   ]
  },
  {
   "cell_type": "code",
   "execution_count": 48,
   "metadata": {},
   "outputs": [
    {
     "name": "stderr",
     "output_type": "stream",
     "text": [
      "C:\\Users\\Vipooshan\\anaconda3\\envs\\GPU\\lib\\site-packages\\keras_applications\\resnet50.py:265: UserWarning: The output shape of `ResNet50(include_top=False)` has been changed since Keras 2.2.0.\n",
      "  warnings.warn('The output shape of `ResNet50(include_top=False)` '\n"
     ]
    }
   ],
   "source": [
    "from keras.applications import ResNet50\n",
    "RN = ResNet50(input_shape=(224,224,3),include_top=False,weights='imagenet')"
   ]
  },
  {
   "cell_type": "code",
   "execution_count": 49,
   "metadata": {},
   "outputs": [],
   "source": [
    "def print_layer_trainable(model):\n",
    "    for layer in model.layers:\n",
    "        print(\"{0}:\\t{1}\".format(layer.trainable, layer.name))"
   ]
  },
  {
   "cell_type": "code",
   "execution_count": 50,
   "metadata": {
    "scrolled": true
   },
   "outputs": [
    {
     "name": "stdout",
     "output_type": "stream",
     "text": [
      "False:\tinput_2\n",
      "True:\tconv1_pad\n",
      "True:\tconv1\n",
      "True:\tbn_conv1\n",
      "True:\tactivation_50\n",
      "True:\tpool1_pad\n",
      "True:\tmax_pooling2d_2\n",
      "True:\tres2a_branch2a\n",
      "True:\tbn2a_branch2a\n",
      "True:\tactivation_51\n",
      "True:\tres2a_branch2b\n",
      "True:\tbn2a_branch2b\n",
      "True:\tactivation_52\n",
      "True:\tres2a_branch2c\n",
      "True:\tres2a_branch1\n",
      "True:\tbn2a_branch2c\n",
      "True:\tbn2a_branch1\n",
      "True:\tadd_17\n",
      "True:\tactivation_53\n",
      "True:\tres2b_branch2a\n",
      "True:\tbn2b_branch2a\n",
      "True:\tactivation_54\n",
      "True:\tres2b_branch2b\n",
      "True:\tbn2b_branch2b\n",
      "True:\tactivation_55\n",
      "True:\tres2b_branch2c\n",
      "True:\tbn2b_branch2c\n",
      "True:\tadd_18\n",
      "True:\tactivation_56\n",
      "True:\tres2c_branch2a\n",
      "True:\tbn2c_branch2a\n",
      "True:\tactivation_57\n",
      "True:\tres2c_branch2b\n",
      "True:\tbn2c_branch2b\n",
      "True:\tactivation_58\n",
      "True:\tres2c_branch2c\n",
      "True:\tbn2c_branch2c\n",
      "True:\tadd_19\n",
      "True:\tactivation_59\n",
      "True:\tres3a_branch2a\n",
      "True:\tbn3a_branch2a\n",
      "True:\tactivation_60\n",
      "True:\tres3a_branch2b\n",
      "True:\tbn3a_branch2b\n",
      "True:\tactivation_61\n",
      "True:\tres3a_branch2c\n",
      "True:\tres3a_branch1\n",
      "True:\tbn3a_branch2c\n",
      "True:\tbn3a_branch1\n",
      "True:\tadd_20\n",
      "True:\tactivation_62\n",
      "True:\tres3b_branch2a\n",
      "True:\tbn3b_branch2a\n",
      "True:\tactivation_63\n",
      "True:\tres3b_branch2b\n",
      "True:\tbn3b_branch2b\n",
      "True:\tactivation_64\n",
      "True:\tres3b_branch2c\n",
      "True:\tbn3b_branch2c\n",
      "True:\tadd_21\n",
      "True:\tactivation_65\n",
      "True:\tres3c_branch2a\n",
      "True:\tbn3c_branch2a\n",
      "True:\tactivation_66\n",
      "True:\tres3c_branch2b\n",
      "True:\tbn3c_branch2b\n",
      "True:\tactivation_67\n",
      "True:\tres3c_branch2c\n",
      "True:\tbn3c_branch2c\n",
      "True:\tadd_22\n",
      "True:\tactivation_68\n",
      "True:\tres3d_branch2a\n",
      "True:\tbn3d_branch2a\n",
      "True:\tactivation_69\n",
      "True:\tres3d_branch2b\n",
      "True:\tbn3d_branch2b\n",
      "True:\tactivation_70\n",
      "True:\tres3d_branch2c\n",
      "True:\tbn3d_branch2c\n",
      "True:\tadd_23\n",
      "True:\tactivation_71\n",
      "True:\tres4a_branch2a\n",
      "True:\tbn4a_branch2a\n",
      "True:\tactivation_72\n",
      "True:\tres4a_branch2b\n",
      "True:\tbn4a_branch2b\n",
      "True:\tactivation_73\n",
      "True:\tres4a_branch2c\n",
      "True:\tres4a_branch1\n",
      "True:\tbn4a_branch2c\n",
      "True:\tbn4a_branch1\n",
      "True:\tadd_24\n",
      "True:\tactivation_74\n",
      "True:\tres4b_branch2a\n",
      "True:\tbn4b_branch2a\n",
      "True:\tactivation_75\n",
      "True:\tres4b_branch2b\n",
      "True:\tbn4b_branch2b\n",
      "True:\tactivation_76\n",
      "True:\tres4b_branch2c\n",
      "True:\tbn4b_branch2c\n",
      "True:\tadd_25\n",
      "True:\tactivation_77\n",
      "True:\tres4c_branch2a\n",
      "True:\tbn4c_branch2a\n",
      "True:\tactivation_78\n",
      "True:\tres4c_branch2b\n",
      "True:\tbn4c_branch2b\n",
      "True:\tactivation_79\n",
      "True:\tres4c_branch2c\n",
      "True:\tbn4c_branch2c\n",
      "True:\tadd_26\n",
      "True:\tactivation_80\n",
      "True:\tres4d_branch2a\n",
      "True:\tbn4d_branch2a\n",
      "True:\tactivation_81\n",
      "True:\tres4d_branch2b\n",
      "True:\tbn4d_branch2b\n",
      "True:\tactivation_82\n",
      "True:\tres4d_branch2c\n",
      "True:\tbn4d_branch2c\n",
      "True:\tadd_27\n",
      "True:\tactivation_83\n",
      "True:\tres4e_branch2a\n",
      "True:\tbn4e_branch2a\n",
      "True:\tactivation_84\n",
      "True:\tres4e_branch2b\n",
      "True:\tbn4e_branch2b\n",
      "True:\tactivation_85\n",
      "True:\tres4e_branch2c\n",
      "True:\tbn4e_branch2c\n",
      "True:\tadd_28\n",
      "True:\tactivation_86\n",
      "True:\tres4f_branch2a\n",
      "True:\tbn4f_branch2a\n",
      "True:\tactivation_87\n",
      "True:\tres4f_branch2b\n",
      "True:\tbn4f_branch2b\n",
      "True:\tactivation_88\n",
      "True:\tres4f_branch2c\n",
      "True:\tbn4f_branch2c\n",
      "True:\tadd_29\n",
      "True:\tactivation_89\n",
      "True:\tres5a_branch2a\n",
      "True:\tbn5a_branch2a\n",
      "True:\tactivation_90\n",
      "True:\tres5a_branch2b\n",
      "True:\tbn5a_branch2b\n",
      "True:\tactivation_91\n",
      "True:\tres5a_branch2c\n",
      "True:\tres5a_branch1\n",
      "True:\tbn5a_branch2c\n",
      "True:\tbn5a_branch1\n",
      "True:\tadd_30\n",
      "True:\tactivation_92\n",
      "True:\tres5b_branch2a\n",
      "True:\tbn5b_branch2a\n",
      "True:\tactivation_93\n",
      "True:\tres5b_branch2b\n",
      "True:\tbn5b_branch2b\n",
      "True:\tactivation_94\n",
      "True:\tres5b_branch2c\n",
      "True:\tbn5b_branch2c\n",
      "True:\tadd_31\n",
      "True:\tactivation_95\n",
      "True:\tres5c_branch2a\n",
      "True:\tbn5c_branch2a\n",
      "True:\tactivation_96\n",
      "True:\tres5c_branch2b\n",
      "True:\tbn5c_branch2b\n",
      "True:\tactivation_97\n",
      "True:\tres5c_branch2c\n",
      "True:\tbn5c_branch2c\n",
      "True:\tadd_32\n",
      "True:\tactivation_98\n"
     ]
    }
   ],
   "source": [
    "print_layer_trainable(RN)"
   ]
  },
  {
   "cell_type": "code",
   "execution_count": 51,
   "metadata": {},
   "outputs": [
    {
     "name": "stdout",
     "output_type": "stream",
     "text": [
      "Model: \"resnet50\"\n",
      "__________________________________________________________________________________________________\n",
      "Layer (type)                    Output Shape         Param #     Connected to                     \n",
      "==================================================================================================\n",
      "input_2 (InputLayer)            (None, 224, 224, 3)  0                                            \n",
      "__________________________________________________________________________________________________\n",
      "conv1_pad (ZeroPadding2D)       (None, 230, 230, 3)  0           input_2[0][0]                    \n",
      "__________________________________________________________________________________________________\n",
      "conv1 (Conv2D)                  (None, 112, 112, 64) 9472        conv1_pad[0][0]                  \n",
      "__________________________________________________________________________________________________\n",
      "bn_conv1 (BatchNormalization)   (None, 112, 112, 64) 256         conv1[0][0]                      \n",
      "__________________________________________________________________________________________________\n",
      "activation_50 (Activation)      (None, 112, 112, 64) 0           bn_conv1[0][0]                   \n",
      "__________________________________________________________________________________________________\n",
      "pool1_pad (ZeroPadding2D)       (None, 114, 114, 64) 0           activation_50[0][0]              \n",
      "__________________________________________________________________________________________________\n",
      "max_pooling2d_2 (MaxPooling2D)  (None, 56, 56, 64)   0           pool1_pad[0][0]                  \n",
      "__________________________________________________________________________________________________\n",
      "res2a_branch2a (Conv2D)         (None, 56, 56, 64)   4160        max_pooling2d_2[0][0]            \n",
      "__________________________________________________________________________________________________\n",
      "bn2a_branch2a (BatchNormalizati (None, 56, 56, 64)   256         res2a_branch2a[0][0]             \n",
      "__________________________________________________________________________________________________\n",
      "activation_51 (Activation)      (None, 56, 56, 64)   0           bn2a_branch2a[0][0]              \n",
      "__________________________________________________________________________________________________\n",
      "res2a_branch2b (Conv2D)         (None, 56, 56, 64)   36928       activation_51[0][0]              \n",
      "__________________________________________________________________________________________________\n",
      "bn2a_branch2b (BatchNormalizati (None, 56, 56, 64)   256         res2a_branch2b[0][0]             \n",
      "__________________________________________________________________________________________________\n",
      "activation_52 (Activation)      (None, 56, 56, 64)   0           bn2a_branch2b[0][0]              \n",
      "__________________________________________________________________________________________________\n",
      "res2a_branch2c (Conv2D)         (None, 56, 56, 256)  16640       activation_52[0][0]              \n",
      "__________________________________________________________________________________________________\n",
      "res2a_branch1 (Conv2D)          (None, 56, 56, 256)  16640       max_pooling2d_2[0][0]            \n",
      "__________________________________________________________________________________________________\n",
      "bn2a_branch2c (BatchNormalizati (None, 56, 56, 256)  1024        res2a_branch2c[0][0]             \n",
      "__________________________________________________________________________________________________\n",
      "bn2a_branch1 (BatchNormalizatio (None, 56, 56, 256)  1024        res2a_branch1[0][0]              \n",
      "__________________________________________________________________________________________________\n",
      "add_17 (Add)                    (None, 56, 56, 256)  0           bn2a_branch2c[0][0]              \n",
      "                                                                 bn2a_branch1[0][0]               \n",
      "__________________________________________________________________________________________________\n",
      "activation_53 (Activation)      (None, 56, 56, 256)  0           add_17[0][0]                     \n",
      "__________________________________________________________________________________________________\n",
      "res2b_branch2a (Conv2D)         (None, 56, 56, 64)   16448       activation_53[0][0]              \n",
      "__________________________________________________________________________________________________\n",
      "bn2b_branch2a (BatchNormalizati (None, 56, 56, 64)   256         res2b_branch2a[0][0]             \n",
      "__________________________________________________________________________________________________\n",
      "activation_54 (Activation)      (None, 56, 56, 64)   0           bn2b_branch2a[0][0]              \n",
      "__________________________________________________________________________________________________\n",
      "res2b_branch2b (Conv2D)         (None, 56, 56, 64)   36928       activation_54[0][0]              \n",
      "__________________________________________________________________________________________________\n",
      "bn2b_branch2b (BatchNormalizati (None, 56, 56, 64)   256         res2b_branch2b[0][0]             \n",
      "__________________________________________________________________________________________________\n",
      "activation_55 (Activation)      (None, 56, 56, 64)   0           bn2b_branch2b[0][0]              \n",
      "__________________________________________________________________________________________________\n",
      "res2b_branch2c (Conv2D)         (None, 56, 56, 256)  16640       activation_55[0][0]              \n",
      "__________________________________________________________________________________________________\n",
      "bn2b_branch2c (BatchNormalizati (None, 56, 56, 256)  1024        res2b_branch2c[0][0]             \n",
      "__________________________________________________________________________________________________\n",
      "add_18 (Add)                    (None, 56, 56, 256)  0           bn2b_branch2c[0][0]              \n",
      "                                                                 activation_53[0][0]              \n",
      "__________________________________________________________________________________________________\n",
      "activation_56 (Activation)      (None, 56, 56, 256)  0           add_18[0][0]                     \n",
      "__________________________________________________________________________________________________\n",
      "res2c_branch2a (Conv2D)         (None, 56, 56, 64)   16448       activation_56[0][0]              \n",
      "__________________________________________________________________________________________________\n",
      "bn2c_branch2a (BatchNormalizati (None, 56, 56, 64)   256         res2c_branch2a[0][0]             \n",
      "__________________________________________________________________________________________________\n",
      "activation_57 (Activation)      (None, 56, 56, 64)   0           bn2c_branch2a[0][0]              \n",
      "__________________________________________________________________________________________________\n",
      "res2c_branch2b (Conv2D)         (None, 56, 56, 64)   36928       activation_57[0][0]              \n",
      "__________________________________________________________________________________________________\n",
      "bn2c_branch2b (BatchNormalizati (None, 56, 56, 64)   256         res2c_branch2b[0][0]             \n",
      "__________________________________________________________________________________________________\n",
      "activation_58 (Activation)      (None, 56, 56, 64)   0           bn2c_branch2b[0][0]              \n",
      "__________________________________________________________________________________________________\n",
      "res2c_branch2c (Conv2D)         (None, 56, 56, 256)  16640       activation_58[0][0]              \n",
      "__________________________________________________________________________________________________\n",
      "bn2c_branch2c (BatchNormalizati (None, 56, 56, 256)  1024        res2c_branch2c[0][0]             \n",
      "__________________________________________________________________________________________________\n",
      "add_19 (Add)                    (None, 56, 56, 256)  0           bn2c_branch2c[0][0]              \n",
      "                                                                 activation_56[0][0]              \n",
      "__________________________________________________________________________________________________\n",
      "activation_59 (Activation)      (None, 56, 56, 256)  0           add_19[0][0]                     \n",
      "__________________________________________________________________________________________________\n",
      "res3a_branch2a (Conv2D)         (None, 28, 28, 128)  32896       activation_59[0][0]              \n",
      "__________________________________________________________________________________________________\n",
      "bn3a_branch2a (BatchNormalizati (None, 28, 28, 128)  512         res3a_branch2a[0][0]             \n",
      "__________________________________________________________________________________________________\n",
      "activation_60 (Activation)      (None, 28, 28, 128)  0           bn3a_branch2a[0][0]              \n",
      "__________________________________________________________________________________________________\n",
      "res3a_branch2b (Conv2D)         (None, 28, 28, 128)  147584      activation_60[0][0]              \n",
      "__________________________________________________________________________________________________\n",
      "bn3a_branch2b (BatchNormalizati (None, 28, 28, 128)  512         res3a_branch2b[0][0]             \n",
      "__________________________________________________________________________________________________\n",
      "activation_61 (Activation)      (None, 28, 28, 128)  0           bn3a_branch2b[0][0]              \n",
      "__________________________________________________________________________________________________\n",
      "res3a_branch2c (Conv2D)         (None, 28, 28, 512)  66048       activation_61[0][0]              \n",
      "__________________________________________________________________________________________________\n",
      "res3a_branch1 (Conv2D)          (None, 28, 28, 512)  131584      activation_59[0][0]              \n",
      "__________________________________________________________________________________________________\n",
      "bn3a_branch2c (BatchNormalizati (None, 28, 28, 512)  2048        res3a_branch2c[0][0]             \n",
      "__________________________________________________________________________________________________\n",
      "bn3a_branch1 (BatchNormalizatio (None, 28, 28, 512)  2048        res3a_branch1[0][0]              \n",
      "__________________________________________________________________________________________________\n",
      "add_20 (Add)                    (None, 28, 28, 512)  0           bn3a_branch2c[0][0]              \n",
      "                                                                 bn3a_branch1[0][0]               \n",
      "__________________________________________________________________________________________________\n",
      "activation_62 (Activation)      (None, 28, 28, 512)  0           add_20[0][0]                     \n",
      "__________________________________________________________________________________________________\n",
      "res3b_branch2a (Conv2D)         (None, 28, 28, 128)  65664       activation_62[0][0]              \n",
      "__________________________________________________________________________________________________\n",
      "bn3b_branch2a (BatchNormalizati (None, 28, 28, 128)  512         res3b_branch2a[0][0]             \n",
      "__________________________________________________________________________________________________\n",
      "activation_63 (Activation)      (None, 28, 28, 128)  0           bn3b_branch2a[0][0]              \n",
      "__________________________________________________________________________________________________\n",
      "res3b_branch2b (Conv2D)         (None, 28, 28, 128)  147584      activation_63[0][0]              \n",
      "__________________________________________________________________________________________________\n",
      "bn3b_branch2b (BatchNormalizati (None, 28, 28, 128)  512         res3b_branch2b[0][0]             \n",
      "__________________________________________________________________________________________________\n",
      "activation_64 (Activation)      (None, 28, 28, 128)  0           bn3b_branch2b[0][0]              \n",
      "__________________________________________________________________________________________________\n",
      "res3b_branch2c (Conv2D)         (None, 28, 28, 512)  66048       activation_64[0][0]              \n",
      "__________________________________________________________________________________________________\n",
      "bn3b_branch2c (BatchNormalizati (None, 28, 28, 512)  2048        res3b_branch2c[0][0]             \n",
      "__________________________________________________________________________________________________\n",
      "add_21 (Add)                    (None, 28, 28, 512)  0           bn3b_branch2c[0][0]              \n",
      "                                                                 activation_62[0][0]              \n",
      "__________________________________________________________________________________________________\n",
      "activation_65 (Activation)      (None, 28, 28, 512)  0           add_21[0][0]                     \n",
      "__________________________________________________________________________________________________\n",
      "res3c_branch2a (Conv2D)         (None, 28, 28, 128)  65664       activation_65[0][0]              \n",
      "__________________________________________________________________________________________________\n",
      "bn3c_branch2a (BatchNormalizati (None, 28, 28, 128)  512         res3c_branch2a[0][0]             \n",
      "__________________________________________________________________________________________________\n",
      "activation_66 (Activation)      (None, 28, 28, 128)  0           bn3c_branch2a[0][0]              \n",
      "__________________________________________________________________________________________________\n",
      "res3c_branch2b (Conv2D)         (None, 28, 28, 128)  147584      activation_66[0][0]              \n",
      "__________________________________________________________________________________________________\n",
      "bn3c_branch2b (BatchNormalizati (None, 28, 28, 128)  512         res3c_branch2b[0][0]             \n",
      "__________________________________________________________________________________________________\n",
      "activation_67 (Activation)      (None, 28, 28, 128)  0           bn3c_branch2b[0][0]              \n",
      "__________________________________________________________________________________________________\n",
      "res3c_branch2c (Conv2D)         (None, 28, 28, 512)  66048       activation_67[0][0]              \n",
      "__________________________________________________________________________________________________\n",
      "bn3c_branch2c (BatchNormalizati (None, 28, 28, 512)  2048        res3c_branch2c[0][0]             \n",
      "__________________________________________________________________________________________________\n",
      "add_22 (Add)                    (None, 28, 28, 512)  0           bn3c_branch2c[0][0]              \n",
      "                                                                 activation_65[0][0]              \n",
      "__________________________________________________________________________________________________\n",
      "activation_68 (Activation)      (None, 28, 28, 512)  0           add_22[0][0]                     \n",
      "__________________________________________________________________________________________________\n",
      "res3d_branch2a (Conv2D)         (None, 28, 28, 128)  65664       activation_68[0][0]              \n",
      "__________________________________________________________________________________________________\n",
      "bn3d_branch2a (BatchNormalizati (None, 28, 28, 128)  512         res3d_branch2a[0][0]             \n",
      "__________________________________________________________________________________________________\n",
      "activation_69 (Activation)      (None, 28, 28, 128)  0           bn3d_branch2a[0][0]              \n",
      "__________________________________________________________________________________________________\n",
      "res3d_branch2b (Conv2D)         (None, 28, 28, 128)  147584      activation_69[0][0]              \n",
      "__________________________________________________________________________________________________\n",
      "bn3d_branch2b (BatchNormalizati (None, 28, 28, 128)  512         res3d_branch2b[0][0]             \n",
      "__________________________________________________________________________________________________\n",
      "activation_70 (Activation)      (None, 28, 28, 128)  0           bn3d_branch2b[0][0]              \n",
      "__________________________________________________________________________________________________\n",
      "res3d_branch2c (Conv2D)         (None, 28, 28, 512)  66048       activation_70[0][0]              \n",
      "__________________________________________________________________________________________________\n",
      "bn3d_branch2c (BatchNormalizati (None, 28, 28, 512)  2048        res3d_branch2c[0][0]             \n",
      "__________________________________________________________________________________________________\n",
      "add_23 (Add)                    (None, 28, 28, 512)  0           bn3d_branch2c[0][0]              \n",
      "                                                                 activation_68[0][0]              \n",
      "__________________________________________________________________________________________________\n",
      "activation_71 (Activation)      (None, 28, 28, 512)  0           add_23[0][0]                     \n",
      "__________________________________________________________________________________________________\n",
      "res4a_branch2a (Conv2D)         (None, 14, 14, 256)  131328      activation_71[0][0]              \n",
      "__________________________________________________________________________________________________\n",
      "bn4a_branch2a (BatchNormalizati (None, 14, 14, 256)  1024        res4a_branch2a[0][0]             \n",
      "__________________________________________________________________________________________________\n",
      "activation_72 (Activation)      (None, 14, 14, 256)  0           bn4a_branch2a[0][0]              \n",
      "__________________________________________________________________________________________________\n",
      "res4a_branch2b (Conv2D)         (None, 14, 14, 256)  590080      activation_72[0][0]              \n",
      "__________________________________________________________________________________________________\n",
      "bn4a_branch2b (BatchNormalizati (None, 14, 14, 256)  1024        res4a_branch2b[0][0]             \n",
      "__________________________________________________________________________________________________\n",
      "activation_73 (Activation)      (None, 14, 14, 256)  0           bn4a_branch2b[0][0]              \n",
      "__________________________________________________________________________________________________\n",
      "res4a_branch2c (Conv2D)         (None, 14, 14, 1024) 263168      activation_73[0][0]              \n",
      "__________________________________________________________________________________________________\n",
      "res4a_branch1 (Conv2D)          (None, 14, 14, 1024) 525312      activation_71[0][0]              \n",
      "__________________________________________________________________________________________________\n",
      "bn4a_branch2c (BatchNormalizati (None, 14, 14, 1024) 4096        res4a_branch2c[0][0]             \n",
      "__________________________________________________________________________________________________\n",
      "bn4a_branch1 (BatchNormalizatio (None, 14, 14, 1024) 4096        res4a_branch1[0][0]              \n",
      "__________________________________________________________________________________________________\n",
      "add_24 (Add)                    (None, 14, 14, 1024) 0           bn4a_branch2c[0][0]              \n",
      "                                                                 bn4a_branch1[0][0]               \n",
      "__________________________________________________________________________________________________\n",
      "activation_74 (Activation)      (None, 14, 14, 1024) 0           add_24[0][0]                     \n",
      "__________________________________________________________________________________________________\n",
      "res4b_branch2a (Conv2D)         (None, 14, 14, 256)  262400      activation_74[0][0]              \n",
      "__________________________________________________________________________________________________\n",
      "bn4b_branch2a (BatchNormalizati (None, 14, 14, 256)  1024        res4b_branch2a[0][0]             \n",
      "__________________________________________________________________________________________________\n",
      "activation_75 (Activation)      (None, 14, 14, 256)  0           bn4b_branch2a[0][0]              \n",
      "__________________________________________________________________________________________________\n",
      "res4b_branch2b (Conv2D)         (None, 14, 14, 256)  590080      activation_75[0][0]              \n",
      "__________________________________________________________________________________________________\n",
      "bn4b_branch2b (BatchNormalizati (None, 14, 14, 256)  1024        res4b_branch2b[0][0]             \n",
      "__________________________________________________________________________________________________\n",
      "activation_76 (Activation)      (None, 14, 14, 256)  0           bn4b_branch2b[0][0]              \n",
      "__________________________________________________________________________________________________\n",
      "res4b_branch2c (Conv2D)         (None, 14, 14, 1024) 263168      activation_76[0][0]              \n",
      "__________________________________________________________________________________________________\n",
      "bn4b_branch2c (BatchNormalizati (None, 14, 14, 1024) 4096        res4b_branch2c[0][0]             \n",
      "__________________________________________________________________________________________________\n",
      "add_25 (Add)                    (None, 14, 14, 1024) 0           bn4b_branch2c[0][0]              \n",
      "                                                                 activation_74[0][0]              \n",
      "__________________________________________________________________________________________________\n",
      "activation_77 (Activation)      (None, 14, 14, 1024) 0           add_25[0][0]                     \n",
      "__________________________________________________________________________________________________\n",
      "res4c_branch2a (Conv2D)         (None, 14, 14, 256)  262400      activation_77[0][0]              \n",
      "__________________________________________________________________________________________________\n",
      "bn4c_branch2a (BatchNormalizati (None, 14, 14, 256)  1024        res4c_branch2a[0][0]             \n",
      "__________________________________________________________________________________________________\n",
      "activation_78 (Activation)      (None, 14, 14, 256)  0           bn4c_branch2a[0][0]              \n",
      "__________________________________________________________________________________________________\n",
      "res4c_branch2b (Conv2D)         (None, 14, 14, 256)  590080      activation_78[0][0]              \n",
      "__________________________________________________________________________________________________\n",
      "bn4c_branch2b (BatchNormalizati (None, 14, 14, 256)  1024        res4c_branch2b[0][0]             \n",
      "__________________________________________________________________________________________________\n",
      "activation_79 (Activation)      (None, 14, 14, 256)  0           bn4c_branch2b[0][0]              \n",
      "__________________________________________________________________________________________________\n",
      "res4c_branch2c (Conv2D)         (None, 14, 14, 1024) 263168      activation_79[0][0]              \n",
      "__________________________________________________________________________________________________\n",
      "bn4c_branch2c (BatchNormalizati (None, 14, 14, 1024) 4096        res4c_branch2c[0][0]             \n",
      "__________________________________________________________________________________________________\n",
      "add_26 (Add)                    (None, 14, 14, 1024) 0           bn4c_branch2c[0][0]              \n",
      "                                                                 activation_77[0][0]              \n",
      "__________________________________________________________________________________________________\n",
      "activation_80 (Activation)      (None, 14, 14, 1024) 0           add_26[0][0]                     \n",
      "__________________________________________________________________________________________________\n",
      "res4d_branch2a (Conv2D)         (None, 14, 14, 256)  262400      activation_80[0][0]              \n",
      "__________________________________________________________________________________________________\n",
      "bn4d_branch2a (BatchNormalizati (None, 14, 14, 256)  1024        res4d_branch2a[0][0]             \n",
      "__________________________________________________________________________________________________\n",
      "activation_81 (Activation)      (None, 14, 14, 256)  0           bn4d_branch2a[0][0]              \n",
      "__________________________________________________________________________________________________\n",
      "res4d_branch2b (Conv2D)         (None, 14, 14, 256)  590080      activation_81[0][0]              \n",
      "__________________________________________________________________________________________________\n",
      "bn4d_branch2b (BatchNormalizati (None, 14, 14, 256)  1024        res4d_branch2b[0][0]             \n",
      "__________________________________________________________________________________________________\n",
      "activation_82 (Activation)      (None, 14, 14, 256)  0           bn4d_branch2b[0][0]              \n",
      "__________________________________________________________________________________________________\n",
      "res4d_branch2c (Conv2D)         (None, 14, 14, 1024) 263168      activation_82[0][0]              \n",
      "__________________________________________________________________________________________________\n",
      "bn4d_branch2c (BatchNormalizati (None, 14, 14, 1024) 4096        res4d_branch2c[0][0]             \n",
      "__________________________________________________________________________________________________\n",
      "add_27 (Add)                    (None, 14, 14, 1024) 0           bn4d_branch2c[0][0]              \n",
      "                                                                 activation_80[0][0]              \n",
      "__________________________________________________________________________________________________\n",
      "activation_83 (Activation)      (None, 14, 14, 1024) 0           add_27[0][0]                     \n",
      "__________________________________________________________________________________________________\n",
      "res4e_branch2a (Conv2D)         (None, 14, 14, 256)  262400      activation_83[0][0]              \n",
      "__________________________________________________________________________________________________\n",
      "bn4e_branch2a (BatchNormalizati (None, 14, 14, 256)  1024        res4e_branch2a[0][0]             \n",
      "__________________________________________________________________________________________________\n",
      "activation_84 (Activation)      (None, 14, 14, 256)  0           bn4e_branch2a[0][0]              \n",
      "__________________________________________________________________________________________________\n",
      "res4e_branch2b (Conv2D)         (None, 14, 14, 256)  590080      activation_84[0][0]              \n",
      "__________________________________________________________________________________________________\n",
      "bn4e_branch2b (BatchNormalizati (None, 14, 14, 256)  1024        res4e_branch2b[0][0]             \n",
      "__________________________________________________________________________________________________\n",
      "activation_85 (Activation)      (None, 14, 14, 256)  0           bn4e_branch2b[0][0]              \n",
      "__________________________________________________________________________________________________\n",
      "res4e_branch2c (Conv2D)         (None, 14, 14, 1024) 263168      activation_85[0][0]              \n",
      "__________________________________________________________________________________________________\n",
      "bn4e_branch2c (BatchNormalizati (None, 14, 14, 1024) 4096        res4e_branch2c[0][0]             \n",
      "__________________________________________________________________________________________________\n",
      "add_28 (Add)                    (None, 14, 14, 1024) 0           bn4e_branch2c[0][0]              \n",
      "                                                                 activation_83[0][0]              \n",
      "__________________________________________________________________________________________________\n",
      "activation_86 (Activation)      (None, 14, 14, 1024) 0           add_28[0][0]                     \n",
      "__________________________________________________________________________________________________\n",
      "res4f_branch2a (Conv2D)         (None, 14, 14, 256)  262400      activation_86[0][0]              \n",
      "__________________________________________________________________________________________________\n",
      "bn4f_branch2a (BatchNormalizati (None, 14, 14, 256)  1024        res4f_branch2a[0][0]             \n",
      "__________________________________________________________________________________________________\n",
      "activation_87 (Activation)      (None, 14, 14, 256)  0           bn4f_branch2a[0][0]              \n",
      "__________________________________________________________________________________________________\n",
      "res4f_branch2b (Conv2D)         (None, 14, 14, 256)  590080      activation_87[0][0]              \n",
      "__________________________________________________________________________________________________\n",
      "bn4f_branch2b (BatchNormalizati (None, 14, 14, 256)  1024        res4f_branch2b[0][0]             \n",
      "__________________________________________________________________________________________________\n",
      "activation_88 (Activation)      (None, 14, 14, 256)  0           bn4f_branch2b[0][0]              \n",
      "__________________________________________________________________________________________________\n",
      "res4f_branch2c (Conv2D)         (None, 14, 14, 1024) 263168      activation_88[0][0]              \n",
      "__________________________________________________________________________________________________\n",
      "bn4f_branch2c (BatchNormalizati (None, 14, 14, 1024) 4096        res4f_branch2c[0][0]             \n",
      "__________________________________________________________________________________________________\n",
      "add_29 (Add)                    (None, 14, 14, 1024) 0           bn4f_branch2c[0][0]              \n",
      "                                                                 activation_86[0][0]              \n",
      "__________________________________________________________________________________________________\n",
      "activation_89 (Activation)      (None, 14, 14, 1024) 0           add_29[0][0]                     \n",
      "__________________________________________________________________________________________________\n",
      "res5a_branch2a (Conv2D)         (None, 7, 7, 512)    524800      activation_89[0][0]              \n",
      "__________________________________________________________________________________________________\n",
      "bn5a_branch2a (BatchNormalizati (None, 7, 7, 512)    2048        res5a_branch2a[0][0]             \n",
      "__________________________________________________________________________________________________\n",
      "activation_90 (Activation)      (None, 7, 7, 512)    0           bn5a_branch2a[0][0]              \n",
      "__________________________________________________________________________________________________\n",
      "res5a_branch2b (Conv2D)         (None, 7, 7, 512)    2359808     activation_90[0][0]              \n",
      "__________________________________________________________________________________________________\n",
      "bn5a_branch2b (BatchNormalizati (None, 7, 7, 512)    2048        res5a_branch2b[0][0]             \n",
      "__________________________________________________________________________________________________\n",
      "activation_91 (Activation)      (None, 7, 7, 512)    0           bn5a_branch2b[0][0]              \n",
      "__________________________________________________________________________________________________\n",
      "res5a_branch2c (Conv2D)         (None, 7, 7, 2048)   1050624     activation_91[0][0]              \n",
      "__________________________________________________________________________________________________\n",
      "res5a_branch1 (Conv2D)          (None, 7, 7, 2048)   2099200     activation_89[0][0]              \n",
      "__________________________________________________________________________________________________\n",
      "bn5a_branch2c (BatchNormalizati (None, 7, 7, 2048)   8192        res5a_branch2c[0][0]             \n",
      "__________________________________________________________________________________________________\n",
      "bn5a_branch1 (BatchNormalizatio (None, 7, 7, 2048)   8192        res5a_branch1[0][0]              \n",
      "__________________________________________________________________________________________________\n",
      "add_30 (Add)                    (None, 7, 7, 2048)   0           bn5a_branch2c[0][0]              \n",
      "                                                                 bn5a_branch1[0][0]               \n",
      "__________________________________________________________________________________________________\n",
      "activation_92 (Activation)      (None, 7, 7, 2048)   0           add_30[0][0]                     \n",
      "__________________________________________________________________________________________________\n",
      "res5b_branch2a (Conv2D)         (None, 7, 7, 512)    1049088     activation_92[0][0]              \n",
      "__________________________________________________________________________________________________\n",
      "bn5b_branch2a (BatchNormalizati (None, 7, 7, 512)    2048        res5b_branch2a[0][0]             \n",
      "__________________________________________________________________________________________________\n",
      "activation_93 (Activation)      (None, 7, 7, 512)    0           bn5b_branch2a[0][0]              \n",
      "__________________________________________________________________________________________________\n",
      "res5b_branch2b (Conv2D)         (None, 7, 7, 512)    2359808     activation_93[0][0]              \n",
      "__________________________________________________________________________________________________\n",
      "bn5b_branch2b (BatchNormalizati (None, 7, 7, 512)    2048        res5b_branch2b[0][0]             \n",
      "__________________________________________________________________________________________________\n",
      "activation_94 (Activation)      (None, 7, 7, 512)    0           bn5b_branch2b[0][0]              \n",
      "__________________________________________________________________________________________________\n",
      "res5b_branch2c (Conv2D)         (None, 7, 7, 2048)   1050624     activation_94[0][0]              \n",
      "__________________________________________________________________________________________________\n",
      "bn5b_branch2c (BatchNormalizati (None, 7, 7, 2048)   8192        res5b_branch2c[0][0]             \n",
      "__________________________________________________________________________________________________\n",
      "add_31 (Add)                    (None, 7, 7, 2048)   0           bn5b_branch2c[0][0]              \n",
      "                                                                 activation_92[0][0]              \n",
      "__________________________________________________________________________________________________\n",
      "activation_95 (Activation)      (None, 7, 7, 2048)   0           add_31[0][0]                     \n",
      "__________________________________________________________________________________________________\n",
      "res5c_branch2a (Conv2D)         (None, 7, 7, 512)    1049088     activation_95[0][0]              \n",
      "__________________________________________________________________________________________________\n",
      "bn5c_branch2a (BatchNormalizati (None, 7, 7, 512)    2048        res5c_branch2a[0][0]             \n",
      "__________________________________________________________________________________________________\n",
      "activation_96 (Activation)      (None, 7, 7, 512)    0           bn5c_branch2a[0][0]              \n",
      "__________________________________________________________________________________________________\n",
      "res5c_branch2b (Conv2D)         (None, 7, 7, 512)    2359808     activation_96[0][0]              \n",
      "__________________________________________________________________________________________________\n",
      "bn5c_branch2b (BatchNormalizati (None, 7, 7, 512)    2048        res5c_branch2b[0][0]             \n",
      "__________________________________________________________________________________________________\n",
      "activation_97 (Activation)      (None, 7, 7, 512)    0           bn5c_branch2b[0][0]              \n",
      "__________________________________________________________________________________________________\n",
      "res5c_branch2c (Conv2D)         (None, 7, 7, 2048)   1050624     activation_97[0][0]              \n",
      "__________________________________________________________________________________________________\n",
      "bn5c_branch2c (BatchNormalizati (None, 7, 7, 2048)   8192        res5c_branch2c[0][0]             \n",
      "__________________________________________________________________________________________________\n",
      "add_32 (Add)                    (None, 7, 7, 2048)   0           bn5c_branch2c[0][0]              \n",
      "                                                                 activation_95[0][0]              \n",
      "__________________________________________________________________________________________________\n",
      "activation_98 (Activation)      (None, 7, 7, 2048)   0           add_32[0][0]                     \n",
      "==================================================================================================\n",
      "Total params: 23,587,712\n",
      "Trainable params: 23,534,592\n",
      "Non-trainable params: 53,120\n",
      "__________________________________________________________________________________________________\n"
     ]
    }
   ],
   "source": [
    "RN.summary()"
   ]
  },
  {
   "cell_type": "code",
   "execution_count": 52,
   "metadata": {
    "scrolled": true
   },
   "outputs": [],
   "source": [
    "custom_resnet_model = Sequential()\n",
    "model = keras.Sequential([\n",
    "    RN,\n",
    "    keras.layers.Flatten(),\n",
    "    keras.layers.Dense(units=8,activation=\"softmax\")\n",
    "])\n",
    "\n",
    "model.layers[0].trainable = False"
   ]
  },
  {
   "cell_type": "code",
   "execution_count": 53,
   "metadata": {},
   "outputs": [
    {
     "name": "stdout",
     "output_type": "stream",
     "text": [
      "Model: \"sequential_4\"\n",
      "_________________________________________________________________\n",
      "Layer (type)                 Output Shape              Param #   \n",
      "=================================================================\n",
      "resnet50 (Model)             (None, 7, 7, 2048)        23587712  \n",
      "_________________________________________________________________\n",
      "flatten_2 (Flatten)          (None, 100352)            0         \n",
      "_________________________________________________________________\n",
      "dense_2 (Dense)              (None, 8)                 802824    \n",
      "=================================================================\n",
      "Total params: 24,390,536\n",
      "Trainable params: 802,824\n",
      "Non-trainable params: 23,587,712\n",
      "_________________________________________________________________\n"
     ]
    }
   ],
   "source": [
    "model.summary()"
   ]
  },
  {
   "cell_type": "code",
   "execution_count": 54,
   "metadata": {},
   "outputs": [],
   "source": [
    "for layer in model.layers[:-1]:\n",
    "    layer.trainable = False\n"
   ]
  },
  {
   "cell_type": "code",
   "execution_count": 55,
   "metadata": {},
   "outputs": [
    {
     "data": {
      "text/plain": [
       "True"
      ]
     },
     "execution_count": 55,
     "metadata": {},
     "output_type": "execute_result"
    }
   ],
   "source": [
    "model.layers[-1].trainable"
   ]
  },
  {
   "cell_type": "code",
   "execution_count": 56,
   "metadata": {},
   "outputs": [
    {
     "name": "stdout",
     "output_type": "stream",
     "text": [
      "False:\tresnet50\n",
      "False:\tflatten_2\n",
      "True:\tdense_2\n"
     ]
    }
   ],
   "source": [
    "print_layer_trainable(model)"
   ]
  },
  {
   "cell_type": "code",
   "execution_count": 57,
   "metadata": {},
   "outputs": [],
   "source": [
    "from tensorflow.python.keras import optimizers\n",
    "\n",
    "model.compile(optimizer = keras.optimizers.Adam(learning_rate=0.0001), loss = 'categorical_crossentropy', metrics = ['accuracy'])"
   ]
  },
  {
   "cell_type": "code",
   "execution_count": 58,
   "metadata": {
    "scrolled": true
   },
   "outputs": [],
   "source": [
    "import time\n",
    "t=time.time()"
   ]
  },
  {
   "cell_type": "code",
   "execution_count": 59,
   "metadata": {
    "scrolled": false
   },
   "outputs": [
    {
     "name": "stdout",
     "output_type": "stream",
     "text": [
      "Epoch 1/10\n",
      "400/400 [==============================] - 595s 1s/step - loss: 0.8889 - accuracy: 0.7583 - val_loss: 2.3890 - val_accuracy: 0.1086\n",
      "Epoch 2/10\n",
      "400/400 [==============================] - 589s 1s/step - loss: 0.7213 - accuracy: 0.8302 - val_loss: 3.4501 - val_accuracy: 0.1229\n",
      "Epoch 3/10\n",
      "400/400 [==============================] - 9833s 25s/step - loss: 0.6423 - accuracy: 0.8473 - val_loss: 3.7438 - val_accuracy: 0.1234\n",
      "Epoch 4/10\n",
      "400/400 [==============================] - 575s 1s/step - loss: 0.6397 - accuracy: 0.8580 - val_loss: 4.0647 - val_accuracy: 0.1229\n",
      "Epoch 5/10\n",
      "400/400 [==============================] - 587s 1s/step - loss: 0.6292 - accuracy: 0.8628 - val_loss: 4.4658 - val_accuracy: 0.1271\n",
      "Epoch 6/10\n",
      "400/400 [==============================] - 596s 1s/step - loss: 0.6023 - accuracy: 0.8741 - val_loss: 6.3842 - val_accuracy: 0.1245\n",
      "Epoch 7/10\n",
      "400/400 [==============================] - 553s 1s/step - loss: 0.5969 - accuracy: 0.8790 - val_loss: 5.4225 - val_accuracy: 0.1250\n",
      "Epoch 8/10\n",
      "400/400 [==============================] - 509s 1s/step - loss: 0.5379 - accuracy: 0.8873 - val_loss: 5.2928 - val_accuracy: 0.1263\n",
      "Epoch 9/10\n",
      "400/400 [==============================] - 591s 1s/step - loss: 0.5476 - accuracy: 0.8884 - val_loss: 5.2664 - val_accuracy: 0.1198\n",
      "Epoch 10/10\n",
      "400/400 [==============================] - 589s 1s/step - loss: 0.5963 - accuracy: 0.8859 - val_loss: 7.4668 - val_accuracy: 0.1253\n"
     ]
    }
   ],
   "source": [
    "hist = model.fit_generator(steps_per_epoch=400,generator=traindata, validation_data=testdata, validation_steps=120, epochs=10)"
   ]
  },
  {
   "cell_type": "code",
   "execution_count": 60,
   "metadata": {},
   "outputs": [
    {
     "name": "stdout",
     "output_type": "stream",
     "text": [
      "Training time: -15024.301186323166\n"
     ]
    }
   ],
   "source": [
    "print('Training time: %s' % (t - time.time()))"
   ]
  },
  {
   "cell_type": "code",
   "execution_count": 61,
   "metadata": {
    "scrolled": false
   },
   "outputs": [],
   "source": [
    "model_file= 'RN50_1.h5'\n",
    "model.save(model_file)"
   ]
  },
  {
   "cell_type": "code",
   "execution_count": 62,
   "metadata": {},
   "outputs": [
    {
     "data": {
      "image/png": "[encoded data removed]",
      "text/plain": [
       "<Figure size 432x288 with 1 Axes>"
      ]
     },
     "metadata": {
      "needs_background": "light"
     },
     "output_type": "display_data"
    }
   ],
   "source": [
    "import matplotlib.pyplot as plt\n",
    "plt.plot(hist.history[\"accuracy\"])\n",
    "plt.plot(hist.history[\"val_accuracy\"])\n",
    "plt.plot(hist.history[\"loss\"])\n",
    "plt.plot(hist.history[\"val_loss\"])\n",
    "plt.title(\"model_accuracy\")\n",
    "plt.ylabel(\"Accuracy\")\n",
    "plt.xlabel(\"Epoch\")\n",
    "plt.legend([\"Accuracy\",\"Validation_Accuracy\",\"loss\",\"Validation_Loss\"])\n",
    "#plt.axis([0,5,0,3])\n",
    "plt.show()"
   ]
  },
  {
   "cell_type": "code",
   "execution_count": 63,
   "metadata": {},
   "outputs": [],
   "source": [
    "from sklearn.metrics import confusion_matrix\n",
    "\n",
    "def print_confusion_matrix(cls_pred):\n",
    "    # cls_pred is an array of the predicted class-number for\n",
    "    # all images in the test-set.\n",
    "\n",
    "    # Get the confusion matrix using sklearn.\n",
    "    cm = confusion_matrix(y_true=cls_test,  # True class for test-set.\n",
    "                          y_pred=cls_pred)  # Predicted class.\n",
    "\n",
    "    print(\"Confusion matrix:\")\n",
    "    \n",
    "    # Print the confusion matrix as text.\n",
    "    print(cm)\n",
    "    \n",
    "    # Print the class-names for easy reference.\n",
    "    for i, class_name in enumerate(class_names):\n",
    "        print(\"({0}) {1}\".format(i, class_name))"
   ]
  },
  {
   "cell_type": "code",
   "execution_count": 64,
   "metadata": {},
   "outputs": [],
   "source": [
    "def plot_images(images, cls_true, cls_pred=None, smooth=True):\n",
    "\n",
    "    assert len(images) == len(cls_true)\n",
    "\n",
    "    # Create figure with sub-plots.\n",
    "    fig, axes = plt.subplots(3, 3)\n",
    "\n",
    "    # Adjust vertical spacing.\n",
    "    if cls_pred is None:\n",
    "        hspace = 0.3\n",
    "    else:\n",
    "        hspace = 0.6\n",
    "    fig.subplots_adjust(hspace=hspace, wspace=0.3)\n",
    "\n",
    "    # Interpolation type.\n",
    "    if smooth:\n",
    "        interpolation = 'spline16'\n",
    "    else:\n",
    "        interpolation = 'nearest'\n",
    "\n",
    "    for i, ax in enumerate(axes.flat):\n",
    "        # There may be less than 9 images, ensure it doesn't crash.\n",
    "        if i < len(images):\n",
    "            # Plot image.\n",
    "            ax.imshow(images[i],\n",
    "                      interpolation=interpolation)\n",
    "\n",
    "            # Name of the true class.\n",
    "            cls_true_name = class_names[cls_true[i]]\n",
    "\n",
    "            # Show true and predicted classes.\n",
    "            if cls_pred is None:\n",
    "                xlabel = \"True: {0}\".format(cls_true_name)\n",
    "            else:\n",
    "                # Name of the predicted class.\n",
    "                cls_pred_name = class_names[cls_pred[i]]\n",
    "\n",
    "                xlabel = \"True: {0}\\nPred: {1}\".format(cls_true_name, cls_pred_name)\n",
    "\n",
    "            # Show the classes as the label on the x-axis.\n",
    "            ax.set_xlabel(xlabel)\n",
    "        \n",
    "        # Remove ticks from the plot.\n",
    "        ax.set_xticks([])\n",
    "        ax.set_yticks([])\n",
    "    \n",
    "    # Ensure the plot is shown correctly with multiple plots\n",
    "    # in a single Notebook cell.\n",
    "    plt.show()"
   ]
  },
  {
   "cell_type": "code",
   "execution_count": 65,
   "metadata": {},
   "outputs": [],
   "source": [
    "def plot_example_errors(cls_pred):\n",
    "    # cls_pred is an array of the predicted class-number for\n",
    "    # all images in the test-set.\n",
    "\n",
    "    # Boolean array whether the predicted class is incorrect.\n",
    "    incorrect = (cls_pred != cls_test)\n",
    "\n",
    "    # Get the file-paths for images that were incorrectly classified.\n",
    "    image_paths = np.array(image_paths_test)[incorrect]\n",
    "\n",
    "    # Load the first 9 images.\n",
    "    images = load_images(image_paths=image_paths[0:9])\n",
    "    \n",
    "    # Get the predicted classes for those images.\n",
    "    cls_pred = cls_pred[incorrect]\n",
    "\n",
    "    # Get the true classes for those images.\n",
    "    cls_true = cls_test[incorrect]\n",
    "    \n",
    "    # Plot the 9 images we have loaded and their corresponding classes.\n",
    "    # We have only loaded 9 images so there is no need to slice those again.\n",
    "    plot_images(images=images,\n",
    "                cls_true=cls_true[0:9],\n",
    "                cls_pred=cls_pred[0:9])"
   ]
  },
  {
   "cell_type": "code",
   "execution_count": 66,
   "metadata": {},
   "outputs": [],
   "source": [
    "def example_errors():\n",
    "    # The Keras data-generator for the test-set must be reset\n",
    "    # before processing. This is because the generator will loop\n",
    "    # infinitely and keep an internal index into the dataset.\n",
    "    # So it might start in the middle of the test-set if we do\n",
    "    # not reset it first. This makes it impossible to match the\n",
    "    # predicted classes with the input images.\n",
    "    # If we reset the generator, then it always starts at the\n",
    "    # beginning so we know exactly which input-images were used.\n",
    "    testdata.reset()\n",
    "    \n",
    "    # Predict the classes for all images in the test-set.\n",
    "    y_pred = model.predict(testdata, steps=testdata.n / 32)\n",
    "\n",
    "    # Convert the predicted classes from arrays to integers.\n",
    "    cls_pred = np.argmax(y_pred,axis=1)\n",
    "\n",
    "    # Plot examples of mis-classified images.\n",
    "    plot_example_errors(cls_pred)\n",
    "    \n",
    "    # Print the confusion matrix.\n",
    "    print_confusion_matrix(cls_pred)"
   ]
  },
  {
   "cell_type": "code",
   "execution_count": 67,
   "metadata": {},
   "outputs": [],
   "source": [
    "def path_join(dirname, filenames):\n",
    "    return [os.path.join(dirname, filename) for filename in filenames]"
   ]
  },
  {
   "cell_type": "code",
   "execution_count": 68,
   "metadata": {},
   "outputs": [],
   "source": [
    "def load_images(image_paths):\n",
    "    # Load the images from disk.\n",
    "    images = [plt.imread(path) for path in image_paths]\n",
    "\n",
    "    # Convert to a numpy array and return it.\n",
    "    return np.asarray(images)"
   ]
  },
  {
   "cell_type": "code",
   "execution_count": 69,
   "metadata": {},
   "outputs": [],
   "source": [
    "train_dir = \"D:/kvasir-dataset-v2/train_data\"\n",
    "test_dir = \"D:/kvasir-dataset-v2/test_data\""
   ]
  },
  {
   "cell_type": "code",
   "execution_count": 70,
   "metadata": {},
   "outputs": [],
   "source": [
    "image_paths_train = path_join(train_dir, traindata.filenames)\n",
    "image_paths_test = path_join(test_dir, testdata.filenames)"
   ]
  },
  {
   "cell_type": "code",
   "execution_count": 71,
   "metadata": {},
   "outputs": [],
   "source": [
    "cls_test = testdata.classes\n",
    "cls_train = traindata.classes"
   ]
  },
  {
   "cell_type": "code",
   "execution_count": 72,
   "metadata": {},
   "outputs": [
    {
     "data": {
      "text/plain": [
       "['dyed-lifted-polyps',\n",
       " 'dyed-resection-margins',\n",
       " 'esophagitis',\n",
       " 'normal-cecum',\n",
       " 'normal-pylorus',\n",
       " 'normal-z-line',\n",
       " 'polyps',\n",
       " 'ulcerative-colitis']"
      ]
     },
     "execution_count": 72,
     "metadata": {},
     "output_type": "execute_result"
    }
   ],
   "source": [
    "class_names = list(traindata.class_indices.keys())\n",
    "class_names"
   ]
  },
  {
   "cell_type": "code",
   "execution_count": 73,
   "metadata": {},
   "outputs": [
    {
     "data": {
      "image/png": "[encoded data removed]",
      "text/plain": [
       "<Figure size 432x288 with 9 Axes>"
      ]
     },
     "metadata": {},
     "output_type": "display_data"
    },
    {
     "name": "stdout",
     "output_type": "stream",
     "text": [
      "Confusion matrix:\n",
      "[[  0  12   0   0   0  20   0 168]\n",
      " [  0   8   0   0   0  18   0 174]\n",
      " [  0   3   0   0   0  34   0 163]\n",
      " [  0  11   0   0   0  25   0 164]\n",
      " [  0   8   0   0   0  20   0 172]\n",
      " [  0   8   0   0   0  30   0 162]\n",
      " [  0   6   0   0   0  22   0 172]\n",
      " [  0   5   0   0   0  26   0 169]]\n",
      "(0) dyed-lifted-polyps\n",
      "(1) dyed-resection-margins\n",
      "(2) esophagitis\n",
      "(3) normal-cecum\n",
      "(4) normal-pylorus\n",
      "(5) normal-z-line\n",
      "(6) polyps\n",
      "(7) ulcerative-colitis\n"
     ]
    }
   ],
   "source": [
    "example_errors()"
   ]
  },
  {
   "cell_type": "code",
   "execution_count": 74,
   "metadata": {},
   "outputs": [],
   "source": [
    "# from keras.preprocessing import image\n",
    "# img = image.load_img(\"D:/00fb1871-41c0-4619-be56-29690d145b1d.jpg\" ,target_size=(224,224))\n",
    "# img = np.asarray(img)\n",
    "# plt.imshow(img)\n",
    "# img = np.expand_dims(img, axis=0)\n",
    "## img = keras.applications.vgg16.preprocess_input(x)"
   ]
  },
  {
   "cell_type": "code",
   "execution_count": 75,
   "metadata": {},
   "outputs": [],
   "source": [
    "# from keras.models import load_model\n",
    "# saved_model = load_model(model_file)\n",
    "# output = saved_model.predict(img)"
   ]
  },
  {
   "cell_type": "code",
   "execution_count": 76,
   "metadata": {},
   "outputs": [],
   "source": [
    "# label = [\"1-dyed-lifted-polyps\",\"2-dyed-resection-margins\",\"3-esophagitis\",\"4-normal-cecum\",\"5-normal-pylorus\",\"6-normal-z-line\",\"7-polyps\",\"8-ulcerative-colitis\"]\n",
    "# print(output)"
   ]
  },
  {
   "cell_type": "code",
   "execution_count": 77,
   "metadata": {},
   "outputs": [],
   "source": [
    "# print(label[output[0].argmax()])"
   ]
  },
  {
   "cell_type": "markdown",
   "metadata": {},
   "source": [
    "\n"
   ]
  },
  {
   "cell_type": "markdown",
   "metadata": {},
   "source": [
    "<font size=\"6\">Fine-Tuning</font>"
   ]
  },
  {
   "cell_type": "markdown",
   "metadata": {},
   "source": [
    "   "
   ]
  },
  {
   "cell_type": "code",
   "execution_count": 78,
   "metadata": {},
   "outputs": [],
   "source": [
    "def print_layer_trainable():\n",
    "    for layer in RN.layers:\n",
    "        print(\"{0}:\\t{1}\".format(layer.trainable, layer.name))"
   ]
  },
  {
   "cell_type": "code",
   "execution_count": 79,
   "metadata": {},
   "outputs": [],
   "source": [
    "RN.trainable = True"
   ]
  },
  {
   "cell_type": "code",
   "execution_count": 80,
   "metadata": {},
   "outputs": [],
   "source": [
    "for layer in model.layers[:172]:\n",
    "   layer.trainable = False\n",
    "for layer in model.layers[172:]:\n",
    "   layer.trainable = True"
   ]
  },
  {
   "cell_type": "code",
   "execution_count": 81,
   "metadata": {},
   "outputs": [
    {
     "name": "stdout",
     "output_type": "stream",
     "text": [
      "False:\tinput_2\n",
      "True:\tconv1_pad\n",
      "True:\tconv1\n",
      "True:\tbn_conv1\n",
      "True:\tactivation_50\n",
      "True:\tpool1_pad\n",
      "True:\tmax_pooling2d_2\n",
      "True:\tres2a_branch2a\n",
      "True:\tbn2a_branch2a\n",
      "True:\tactivation_51\n",
      "True:\tres2a_branch2b\n",
      "True:\tbn2a_branch2b\n",
      "True:\tactivation_52\n",
      "True:\tres2a_branch2c\n",
      "True:\tres2a_branch1\n",
      "True:\tbn2a_branch2c\n",
      "True:\tbn2a_branch1\n",
      "True:\tadd_17\n",
      "True:\tactivation_53\n",
      "True:\tres2b_branch2a\n",
      "True:\tbn2b_branch2a\n",
      "True:\tactivation_54\n",
      "True:\tres2b_branch2b\n",
      "True:\tbn2b_branch2b\n",
      "True:\tactivation_55\n",
      "True:\tres2b_branch2c\n",
      "True:\tbn2b_branch2c\n",
      "True:\tadd_18\n",
      "True:\tactivation_56\n",
      "True:\tres2c_branch2a\n",
      "True:\tbn2c_branch2a\n",
      "True:\tactivation_57\n",
      "True:\tres2c_branch2b\n",
      "True:\tbn2c_branch2b\n",
      "True:\tactivation_58\n",
      "True:\tres2c_branch2c\n",
      "True:\tbn2c_branch2c\n",
      "True:\tadd_19\n",
      "True:\tactivation_59\n",
      "True:\tres3a_branch2a\n",
      "True:\tbn3a_branch2a\n",
      "True:\tactivation_60\n",
      "True:\tres3a_branch2b\n",
      "True:\tbn3a_branch2b\n",
      "True:\tactivation_61\n",
      "True:\tres3a_branch2c\n",
      "True:\tres3a_branch1\n",
      "True:\tbn3a_branch2c\n",
      "True:\tbn3a_branch1\n",
      "True:\tadd_20\n",
      "True:\tactivation_62\n",
      "True:\tres3b_branch2a\n",
      "True:\tbn3b_branch2a\n",
      "True:\tactivation_63\n",
      "True:\tres3b_branch2b\n",
      "True:\tbn3b_branch2b\n",
      "True:\tactivation_64\n",
      "True:\tres3b_branch2c\n",
      "True:\tbn3b_branch2c\n",
      "True:\tadd_21\n",
      "True:\tactivation_65\n",
      "True:\tres3c_branch2a\n",
      "True:\tbn3c_branch2a\n",
      "True:\tactivation_66\n",
      "True:\tres3c_branch2b\n",
      "True:\tbn3c_branch2b\n",
      "True:\tactivation_67\n",
      "True:\tres3c_branch2c\n",
      "True:\tbn3c_branch2c\n",
      "True:\tadd_22\n",
      "True:\tactivation_68\n",
      "True:\tres3d_branch2a\n",
      "True:\tbn3d_branch2a\n",
      "True:\tactivation_69\n",
      "True:\tres3d_branch2b\n",
      "True:\tbn3d_branch2b\n",
      "True:\tactivation_70\n",
      "True:\tres3d_branch2c\n",
      "True:\tbn3d_branch2c\n",
      "True:\tadd_23\n",
      "True:\tactivation_71\n",
      "True:\tres4a_branch2a\n",
      "True:\tbn4a_branch2a\n",
      "True:\tactivation_72\n",
      "True:\tres4a_branch2b\n",
      "True:\tbn4a_branch2b\n",
      "True:\tactivation_73\n",
      "True:\tres4a_branch2c\n",
      "True:\tres4a_branch1\n",
      "True:\tbn4a_branch2c\n",
      "True:\tbn4a_branch1\n",
      "True:\tadd_24\n",
      "True:\tactivation_74\n",
      "True:\tres4b_branch2a\n",
      "True:\tbn4b_branch2a\n",
      "True:\tactivation_75\n",
      "True:\tres4b_branch2b\n",
      "True:\tbn4b_branch2b\n",
      "True:\tactivation_76\n",
      "True:\tres4b_branch2c\n",
      "True:\tbn4b_branch2c\n",
      "True:\tadd_25\n",
      "True:\tactivation_77\n",
      "True:\tres4c_branch2a\n",
      "True:\tbn4c_branch2a\n",
      "True:\tactivation_78\n",
      "True:\tres4c_branch2b\n",
      "True:\tbn4c_branch2b\n",
      "True:\tactivation_79\n",
      "True:\tres4c_branch2c\n",
      "True:\tbn4c_branch2c\n",
      "True:\tadd_26\n",
      "True:\tactivation_80\n",
      "True:\tres4d_branch2a\n",
      "True:\tbn4d_branch2a\n",
      "True:\tactivation_81\n",
      "True:\tres4d_branch2b\n",
      "True:\tbn4d_branch2b\n",
      "True:\tactivation_82\n",
      "True:\tres4d_branch2c\n",
      "True:\tbn4d_branch2c\n",
      "True:\tadd_27\n",
      "True:\tactivation_83\n",
      "True:\tres4e_branch2a\n",
      "True:\tbn4e_branch2a\n",
      "True:\tactivation_84\n",
      "True:\tres4e_branch2b\n",
      "True:\tbn4e_branch2b\n",
      "True:\tactivation_85\n",
      "True:\tres4e_branch2c\n",
      "True:\tbn4e_branch2c\n",
      "True:\tadd_28\n",
      "True:\tactivation_86\n",
      "True:\tres4f_branch2a\n",
      "True:\tbn4f_branch2a\n",
      "True:\tactivation_87\n",
      "True:\tres4f_branch2b\n",
      "True:\tbn4f_branch2b\n",
      "True:\tactivation_88\n",
      "True:\tres4f_branch2c\n",
      "True:\tbn4f_branch2c\n",
      "True:\tadd_29\n",
      "True:\tactivation_89\n",
      "True:\tres5a_branch2a\n",
      "True:\tbn5a_branch2a\n",
      "True:\tactivation_90\n",
      "True:\tres5a_branch2b\n",
      "True:\tbn5a_branch2b\n",
      "True:\tactivation_91\n",
      "True:\tres5a_branch2c\n",
      "True:\tres5a_branch1\n",
      "True:\tbn5a_branch2c\n",
      "True:\tbn5a_branch1\n",
      "True:\tadd_30\n",
      "True:\tactivation_92\n",
      "True:\tres5b_branch2a\n",
      "True:\tbn5b_branch2a\n",
      "True:\tactivation_93\n",
      "True:\tres5b_branch2b\n",
      "True:\tbn5b_branch2b\n",
      "True:\tactivation_94\n",
      "True:\tres5b_branch2c\n",
      "True:\tbn5b_branch2c\n",
      "True:\tadd_31\n",
      "True:\tactivation_95\n",
      "True:\tres5c_branch2a\n",
      "True:\tbn5c_branch2a\n",
      "True:\tactivation_96\n",
      "True:\tres5c_branch2b\n",
      "True:\tbn5c_branch2b\n",
      "True:\tactivation_97\n",
      "True:\tres5c_branch2c\n",
      "True:\tbn5c_branch2c\n",
      "True:\tadd_32\n",
      "True:\tactivation_98\n"
     ]
    }
   ],
   "source": [
    "print_layer_trainable()"
   ]
  },
  {
   "cell_type": "code",
   "execution_count": 82,
   "metadata": {},
   "outputs": [],
   "source": [
    "optimizer_fine = Adam(lr=1e-7)"
   ]
  },
  {
   "cell_type": "code",
   "execution_count": 83,
   "metadata": {},
   "outputs": [],
   "source": [
    "loss = 'categorical_crossentropy'\n",
    "metrics = ['accuracy']"
   ]
  },
  {
   "cell_type": "code",
   "execution_count": null,
   "metadata": {},
   "outputs": [],
   "source": []
  },
  {
   "cell_type": "code",
   "execution_count": 84,
   "metadata": {},
   "outputs": [],
   "source": [
    "model.compile(optimizer=optimizer_fine, loss=loss, metrics=metrics)"
   ]
  },
  {
   "cell_type": "code",
   "execution_count": null,
   "metadata": {},
   "outputs": [],
   "source": []
  },
  {
   "cell_type": "code",
   "execution_count": null,
   "metadata": {},
   "outputs": [],
   "source": []
  },
  {
   "cell_type": "code",
   "execution_count": 85,
   "metadata": {
    "scrolled": true
   },
   "outputs": [
    {
     "name": "stdout",
     "output_type": "stream",
     "text": [
      "Epoch 1/15\n",
      "100/100 [==============================] - 266s 3s/step - loss: 0.5870 - accuracy: 0.8856 - val_loss: 5.9875 - val_accuracy: 0.1156\n",
      "Epoch 2/15\n",
      "100/100 [==============================] - 100s 999ms/step - loss: 0.5486 - accuracy: 0.8997 - val_loss: 6.8610 - val_accuracy: 0.1500\n",
      "Epoch 3/15\n",
      "100/100 [==============================] - 121s 1s/step - loss: 0.5726 - accuracy: 0.8934 - val_loss: 6.3234 - val_accuracy: 0.1156\n",
      "Epoch 4/15\n",
      "100/100 [==============================] - 121s 1s/step - loss: 0.6440 - accuracy: 0.8850 - val_loss: 6.5647 - val_accuracy: 0.1094\n",
      "Epoch 5/15\n",
      "100/100 [==============================] - 120s 1s/step - loss: 0.6023 - accuracy: 0.8894 - val_loss: 6.4711 - val_accuracy: 0.1219\n",
      "Epoch 6/15\n",
      "100/100 [==============================] - 3298s 33s/step - loss: 0.6397 - accuracy: 0.8869 - val_loss: 6.3022 - val_accuracy: 0.1250\n",
      "Epoch 7/15\n",
      "100/100 [==============================] - 114s 1s/step - loss: 0.5912 - accuracy: 0.8959 - val_loss: 6.3454 - val_accuracy: 0.1000\n",
      "Epoch 8/15\n",
      "100/100 [==============================] - 114s 1s/step - loss: 0.5930 - accuracy: 0.8900 - val_loss: 6.3524 - val_accuracy: 0.1094\n",
      "Epoch 9/15\n",
      "100/100 [==============================] - 124s 1s/step - loss: 0.5880 - accuracy: 0.8922 - val_loss: 5.9952 - val_accuracy: 0.1281\n",
      "Epoch 10/15\n",
      "100/100 [==============================] - 124s 1s/step - loss: 0.5870 - accuracy: 0.8906 - val_loss: 6.9362 - val_accuracy: 0.1531\n",
      "Epoch 11/15\n",
      "100/100 [==============================] - 335s 3s/step - loss: 0.6463 - accuracy: 0.8900 - val_loss: 6.1237 - val_accuracy: 0.1094\n",
      "Epoch 12/15\n",
      "100/100 [==============================] - 92s 919ms/step - loss: 0.5878 - accuracy: 0.8913 - val_loss: 6.9514 - val_accuracy: 0.1312\n",
      "Epoch 13/15\n",
      "100/100 [==============================] - 93s 928ms/step - loss: 0.5743 - accuracy: 0.8959 - val_loss: 4.7867 - val_accuracy: 0.0875\n",
      "Epoch 14/15\n",
      "100/100 [==============================] - 93s 931ms/step - loss: 0.6286 - accuracy: 0.8906 - val_loss: 7.0573 - val_accuracy: 0.1437\n",
      "Epoch 15/15\n",
      "100/100 [==============================] - 419s 4s/step - loss: 0.5919 - accuracy: 0.8872 - val_loss: 6.9405 - val_accuracy: 0.1594\n"
     ]
    }
   ],
   "source": [
    "#hist1 = model.fit_generator(steps_per_epoch=100,generator=traindata, validation_data=testdata, validation_steps=10, epochs=5)\n",
    "\n",
    "hist1 = model.fit(x=traindata,\n",
    "                        epochs=5,\n",
    "                        steps_per_epoch=100,\n",
    "                        #class_weight=class_weight,\n",
    "                        validation_data=testdata,\n",
    "                        validation_steps=60)"
   ]
  },
  {
   "cell_type": "code",
   "execution_count": 86,
   "metadata": {},
   "outputs": [],
   "source": [
    "def plot_training_history(history):\n",
    "    # Get the classification accuracy and loss-value\n",
    "    # for the training-set.\n",
    "    acc = history.history['accuracy']\n",
    "    loss = history.history['loss']\n",
    "\n",
    "    # Get it for the validation-set (we only use the test-set).\n",
    "    val_acc = history.history['val_accuracy']\n",
    "    val_loss = history.history['val_loss']\n",
    "\n",
    "    # Plot the accuracy and loss-values for the training-set.\n",
    "    plt.plot(acc, linestyle='-', color='b', label='Training Acc.')\n",
    "    plt.plot(loss, 'o', color='b', label='Training Loss')\n",
    "    \n",
    "    # Plot it for the test-set.\n",
    "    plt.plot(val_acc, linestyle='--', color='r', label='Test Acc.')\n",
    "    plt.plot(val_loss, 'o', color='r', label='Test Loss')\n",
    "\n",
    "    # Plot title and legend.\n",
    "    plt.title('Training and Test Accuracy')\n",
    "    plt.legend()\n",
    "\n",
    "    # Ensure the plot shows correctly.\n",
    "    plt.show()\n",
    "\n"
   ]
  },
  {
   "cell_type": "code",
   "execution_count": 87,
   "metadata": {},
   "outputs": [
    {
     "data": {
      "image/png": "[encoded data removed]",
      "text/plain": [
       "<Figure size 432x288 with 1 Axes>"
      ]
     },
     "metadata": {
      "needs_background": "light"
     },
     "output_type": "display_data"
    }
   ],
   "source": [
    "plot_training_history(hist1)"
   ]
  },
  {
   "cell_type": "code",
   "execution_count": 88,
   "metadata": {},
   "outputs": [],
   "source": [
    "model.save('RN50_2.h5')"
   ]
  },
  {
   "cell_type": "code",
   "execution_count": 89,
   "metadata": {},
   "outputs": [
    {
     "data": {
      "image/png": "[encoded data removed]",
      "text/plain": [
       "<Figure size 432x288 with 9 Axes>"
      ]
     },
     "metadata": {},
     "output_type": "display_data"
    },
    {
     "name": "stdout",
     "output_type": "stream",
     "text": [
      "Confusion matrix:\n",
      "[[  0   9   0   0   0  29   0 162]\n",
      " [  0   7   0   0   0  18   0 175]\n",
      " [  0  11   0   0   0  20   0 169]\n",
      " [  0   8   0   0   0  25   0 167]\n",
      " [  0   8   0   0   0  25   0 167]\n",
      " [  0   4   0   0   0  26   0 170]\n",
      " [  0  11   0   0   0  24   0 165]\n",
      " [  0   8   0   0   0  33   0 159]]\n",
      "(0) dyed-lifted-polyps\n",
      "(1) dyed-resection-margins\n",
      "(2) esophagitis\n",
      "(3) normal-cecum\n",
      "(4) normal-pylorus\n",
      "(5) normal-z-line\n",
      "(6) polyps\n",
      "(7) ulcerative-colitis\n"
     ]
    }
   ],
   "source": [
    "example_errors()"
   ]
  },
  {
   "cell_type": "code",
   "execution_count": 90,
   "metadata": {},
   "outputs": [
    {
     "data": {
      "image/png": "[encoded data removed]",
      "text/plain": [
       "<Figure size 432x288 with 1 Axes>"
      ]
     },
     "metadata": {
      "needs_background": "light"
     },
     "output_type": "display_data"
    }
   ],
   "source": [
    "plt.plot(hist1.history[\"accuracy\"])\n",
    "plt.plot(hist1.history[\"val_accuracy\"])\n",
    "plt.plot(hist1.history[\"loss\"])\n",
    "plt.plot(hist1.history[\"val_loss\"])\n",
    "plt.title(\"model_accuracy\")\n",
    "plt.ylabel(\"Accuracy\")\n",
    "plt.xlabel(\"Epoch\")\n",
    "plt.legend([\"Accuracy\",\"Validation_Accuracy\",\"loss\",\"Validation_Loss\"])\n",
    "plt.show()"
   ]
  },
  {
   "cell_type": "code",
   "execution_count": null,
   "metadata": {},
   "outputs": [],
   "source": []
  }
 ],
 "metadata": {
  "kernelspec": {
   "display_name": "Python 3",
   "language": "python",
   "name": "python3"
  },
  "language_info": {
   "codemirror_mode": {
    "name": "ipython",
    "version": 3
   },
   "file_extension": ".py",
   "mimetype": "text/x-python",
   "name": "python",
   "nbconvert_exporter": "python",
   "pygments_lexer": "ipython3",
   "version": "3.8.3"
  },
  "toc": {
   "base_numbering": 1,
   "nav_menu": {},
   "number_sections": true,
   "sideBar": true,
   "skip_h1_title": false,
   "title_cell": "Table of Contents",
   "title_sidebar": "Contents",
   "toc_cell": true,
   "toc_position": {},
   "toc_section_display": true,
   "toc_window_display": false
  }
 },
 "nbformat": 4,
 "nbformat_minor": 4
}
